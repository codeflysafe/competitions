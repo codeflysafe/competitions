{
 "cells": [
  {
   "cell_type": "code",
   "execution_count": 6,
   "metadata": {},
   "outputs": [],
   "source": [
    "import os\n",
    "import json"
   ]
  },
  {
   "cell_type": "code",
   "execution_count": 7,
   "metadata": {},
   "outputs": [],
   "source": [
    "path = '/Users/sjhuang/Documents/docs/dataset/aiwin_dataset/ocr/2021A_T1_Task1_dataset/train/amount/gt.json'"
   ]
  },
  {
   "cell_type": "code",
   "execution_count": 8,
   "metadata": {},
   "outputs": [
    {
     "data": {
      "text/plain": [
       "{'万',\n",
       " '亿',\n",
       " '仟',\n",
       " '伍',\n",
       " '佰',\n",
       " '元',\n",
       " '分',\n",
       " '叁',\n",
       " '圆',\n",
       " '壹',\n",
       " '拾',\n",
       " '捌',\n",
       " '整',\n",
       " '柒',\n",
       " '正',\n",
       " '玖',\n",
       " '肆',\n",
       " '角',\n",
       " '贰',\n",
       " '陆',\n",
       " '零'}"
      ]
     },
     "execution_count": 8,
     "metadata": {},
     "output_type": "execute_result"
    }
   ],
   "source": [
    "chars = set()\n",
    "with open(path,encoding='utf-8') as f:\n",
    "    data = json.loads(f.read())\n",
    "    for k, v in data.items():\n",
    "        for c in v:\n",
    "            chars.add(c)\n",
    "\n",
    "chars"
   ]
  },
  {
   "cell_type": "code",
   "execution_count": 9,
   "metadata": {},
   "outputs": [
    {
     "data": {
      "text/plain": [
       "'分仟贰拾玖正角壹柒亿肆捌万佰元叁陆整圆伍零'"
      ]
     },
     "execution_count": 9,
     "metadata": {},
     "output_type": "execute_result"
    }
   ],
   "source": [
    "''.join(chars)"
   ]
  }
 ],
 "metadata": {
  "interpreter": {
   "hash": "ddb6ac1274766aae8d48ea24c2a86f46ae3ad795c594d0c816246e36b08c5206"
  },
  "kernelspec": {
   "display_name": "Python 3.9.5 64-bit ('dl': conda)",
   "language": "python",
   "name": "python3"
  },
  "language_info": {
   "codemirror_mode": {
    "name": "ipython",
    "version": 3
   },
   "file_extension": ".py",
   "mimetype": "text/x-python",
   "name": "python",
   "nbconvert_exporter": "python",
   "pygments_lexer": "ipython3",
   "version": "3.9.5"
  },
  "orig_nbformat": 4
 },
 "nbformat": 4,
 "nbformat_minor": 2
}
