{
 "cells": [
  {
   "cell_type": "code",
   "execution_count": 204,
   "metadata": {},
   "outputs": [],
   "source": [
    "import os\n",
    "import json"
   ]
  },
  {
   "cell_type": "code",
   "execution_count": null,
   "metadata": {},
   "outputs": [],
   "source": []
  },
  {
   "cell_type": "code",
   "execution_count": 205,
   "metadata": {},
   "outputs": [],
   "source": [
    "path = '/Users/sjhuang/Documents/docs/dataset/aiwin_dataset/ocr/2021A_T1_Task1_dataset/train/amount/gt.json'"
   ]
  },
  {
   "cell_type": "code",
   "execution_count": 206,
   "metadata": {},
   "outputs": [
    {
     "data": {
      "text/plain": [
       "{'万',\n",
       " '亿',\n",
       " '仟',\n",
       " '伍',\n",
       " '佰',\n",
       " '元',\n",
       " '分',\n",
       " '叁',\n",
       " '圆',\n",
       " '壹',\n",
       " '拾',\n",
       " '捌',\n",
       " '整',\n",
       " '柒',\n",
       " '正',\n",
       " '玖',\n",
       " '肆',\n",
       " '角',\n",
       " '贰',\n",
       " '陆',\n",
       " '零'}"
      ]
     },
     "execution_count": 206,
     "metadata": {},
     "output_type": "execute_result"
    }
   ],
   "source": [
    "chars = set()\n",
    "with open(path,encoding='utf-8') as f:\n",
    "    data = json.loads(f.read())\n",
    "    for k, v in data.items():\n",
    "        for c in v:\n",
    "            chars.add(c)\n",
    "\n",
    "chars"
   ]
  },
  {
   "cell_type": "code",
   "execution_count": null,
   "metadata": {},
   "outputs": [],
   "source": []
  },
  {
   "cell_type": "code",
   "execution_count": 207,
   "metadata": {},
   "outputs": [
    {
     "data": {
      "text/plain": [
       "'万捌整元壹伍拾叁肆佰玖正分圆柒陆角仟贰亿零'"
      ]
     },
     "execution_count": 207,
     "metadata": {},
     "output_type": "execute_result"
    }
   ],
   "source": [
    "''.join(chars)"
   ]
  },
  {
   "cell_type": "code",
   "execution_count": 208,
   "metadata": {},
   "outputs": [],
   "source": [
    "# 图片比例\n",
    "def read_images(path,name):\n",
    "    keys = []\n",
    "    if name is None:\n",
    "        paths = os.listdir(path)\n",
    "        paths = list(filter(lambda x:x.endswith('.jpg'), paths))\n",
    "        return [os.path.join(path,p) for p in paths]\n",
    "    else:\n",
    "        file_path = os.path.join(path,name)\n",
    "        with open(file_path,encoding='utf-8') as f:\n",
    "            data = json.loads(f.read())\n",
    "            for k, v in data.items():\n",
    "                keys.append(os.path.join(path,f'images/{k}'))\n",
    "        return keys\n",
    "        "
   ]
  },
  {
   "cell_type": "code",
   "execution_count": 209,
   "metadata": {},
   "outputs": [],
   "source": [
    "ori_path = '/Users/sjhuang/Documents/docs/dataset/aiwin_dataset/ocr/2021A_T1_Task1_dataset/train/amount'\n",
    "image_paths = []\n",
    "train_paths = []\n",
    "keys = read_images(ori_path,'gt.json')\n",
    "image_paths.extend(keys)\n",
    "train_paths.extend(keys)"
   ]
  },
  {
   "cell_type": "code",
   "execution_count": 210,
   "metadata": {},
   "outputs": [],
   "source": [
    "ori_path = '/Users/sjhuang/Documents/docs/dataset/aiwin_dataset/ocr/2021A_T1_Task1_dataset/train/date'\n",
    "keys = read_images(ori_path,'gt.json')\n",
    "image_paths.extend(keys)\n",
    "train_paths.extend(keys)"
   ]
  },
  {
   "cell_type": "code",
   "execution_count": 211,
   "metadata": {},
   "outputs": [],
   "source": [
    "ori_path = '/Users/sjhuang/Documents/docs/dataset/aiwin_dataset/ocr/2021A_T1_Task1_dataset/test/amount/images'\n",
    "test_paths = []\n",
    "keys = read_images(ori_path,None)\n",
    "image_paths.extend(keys)\n",
    "test_paths.extend(keys)"
   ]
  },
  {
   "cell_type": "code",
   "execution_count": 212,
   "metadata": {},
   "outputs": [],
   "source": [
    "ori_path = '/Users/sjhuang/Documents/docs/dataset/aiwin_dataset/ocr/2021A_T1_Task1_dataset/test/date/images'\n",
    "keys = read_images(ori_path,None)\n",
    "image_paths.extend(keys)\n",
    "test_paths.extend(keys)"
   ]
  },
  {
   "cell_type": "code",
   "execution_count": 213,
   "metadata": {},
   "outputs": [
    {
     "data": {
      "text/plain": [
       "(10000, 8000, 2000)"
      ]
     },
     "execution_count": 213,
     "metadata": {},
     "output_type": "execute_result"
    }
   ],
   "source": [
    "len(image_paths), len(train_paths), len(test_paths)"
   ]
  },
  {
   "cell_type": "code",
   "execution_count": 214,
   "metadata": {},
   "outputs": [
    {
     "data": {
      "text/plain": [
       "'/Users/sjhuang/Documents/docs/dataset/aiwin_dataset/ocr/2021A_T1_Task1_dataset/train/amount/images/8bb39447760a31c801762283f9dd63cb.jpg'"
      ]
     },
     "execution_count": 214,
     "metadata": {},
     "output_type": "execute_result"
    }
   ],
   "source": [
    "image_paths[1]"
   ]
  },
  {
   "cell_type": "code",
   "execution_count": 215,
   "metadata": {},
   "outputs": [],
   "source": [
    "import PIL\n",
    "import PIL.Image as Image\n",
    "from tqdm import tqdm"
   ]
  },
  {
   "cell_type": "code",
   "execution_count": 216,
   "metadata": {},
   "outputs": [],
   "source": [
    "def col_ratios(paths):\n",
    "    ratios = []\n",
    "    for image_path in tqdm(paths):\n",
    "        img = Image.open(image_path)\n",
    "        w,h = img.size\n",
    "        ratios.append(w/float(h))\n",
    "    return ratios"
   ]
  },
  {
   "cell_type": "code",
   "execution_count": 217,
   "metadata": {},
   "outputs": [
    {
     "name": "stderr",
     "output_type": "stream",
     "text": [
      "100%|██████████| 8000/8000 [00:04<00:00, 1842.42it/s]\n",
      "100%|██████████| 2000/2000 [00:00<00:00, 2012.64it/s]\n"
     ]
    }
   ],
   "source": [
    "train_ratios = col_ratios(train_paths)\n",
    "test_ratios = col_ratios(test_paths)"
   ]
  },
  {
   "cell_type": "code",
   "execution_count": 218,
   "metadata": {},
   "outputs": [],
   "source": [
    "import matplotlib.pyplot as plt\n"
   ]
  },
  {
   "cell_type": "code",
   "execution_count": 219,
   "metadata": {},
   "outputs": [
    {
     "data": {
      "image/png": "[encoded data removed]",
      "text/plain": [
       "<Figure size 432x288 with 1 Axes>"
      ]
     },
     "metadata": {
      "needs_background": "light"
     },
     "output_type": "display_data"
    }
   ],
   "source": [
    "plt.hist(train_ratios,bins=30)\n",
    "plt.hist(test_ratios,bins=30)\n",
    "plt.xlabel('w/h ratio')\n",
    "plt.ylabel('ratio frequency')\n",
    "plt.show()"
   ]
  },
  {
   "cell_type": "code",
   "execution_count": 220,
   "metadata": {},
   "outputs": [
    {
     "data": {
      "text/plain": [
       "(7716, 1931)"
      ]
     },
     "execution_count": 220,
     "metadata": {},
     "output_type": "execute_result"
    }
   ],
   "source": [
    "filter_train_ratios = list(filter(lambda x:x <= 12, train_ratios))\n",
    "filter_test_ratios = list(filter(lambda x:x <= 12,test_ratios))\n",
    "len(filter_train_ratios), len(filter_test_ratios)"
   ]
  },
  {
   "cell_type": "code",
   "execution_count": 221,
   "metadata": {},
   "outputs": [
    {
     "data": {
      "text/plain": [
       "(<PIL.JpegImagePlugin.JpegImageFile image mode=RGB size=302x48 at 0x7FA153BA5700>,\n",
       " (302, 48))"
      ]
     },
     "execution_count": 221,
     "metadata": {},
     "output_type": "execute_result"
    }
   ],
   "source": [
    "img = Image.open(image_paths[0])\n",
    "img,img.size"
   ]
  },
  {
   "cell_type": "code",
   "execution_count": 249,
   "metadata": {},
   "outputs": [
    {
     "name": "stdout",
     "output_type": "stream",
     "text": [
      "201 32 201 1.0\n"
     ]
    }
   ],
   "source": [
    "imgH = 32 \n",
    "imgW = 336\n",
    "w, h = img.size\n",
    "ratio = h/float(imgH)\n",
    "imgb = None\n",
    "imga = None\n",
    "w_ = int(w/ratio)\n",
    "print(w,h,w_,ratio)\n",
    "if w_ > imgW:\n",
    "    w_ = imgW\n",
    "    imga = img.resize((w_,imgH))\n",
    "else:\n",
    "    img = img.resize((w_,imgH))\n",
    "    new_img = Image.new('RGB',(imgW,imgH),color=(255,255,255))\n",
    "    new_img.paste(img,((imgW - w_)//2, (imgH - h)//2))\n",
    "    imgb = new_img\n"
   ]
  },
  {
   "cell_type": "code",
   "execution_count": 245,
   "metadata": {},
   "outputs": [],
   "source": [
    "# 302*32-48*201\n"
   ]
  },
  {
   "cell_type": "code",
   "execution_count": 246,
   "metadata": {},
   "outputs": [],
   "source": [
    "imga"
   ]
  },
  {
   "cell_type": "code",
   "execution_count": 250,
   "metadata": {},
   "outputs": [
    {
     "data": {
      "image/png": "[encoded data removed]",
      "text/plain": [
       "<PIL.Image.Image image mode=RGB size=336x32 at 0x7FA1541201C0>"
      ]
     },
     "execution_count": 250,
     "metadata": {},
     "output_type": "execute_result"
    }
   ],
   "source": [
    "imgb"
   ]
  },
  {
   "cell_type": "code",
   "execution_count": 248,
   "metadata": {},
   "outputs": [
    {
     "data": {
      "image/png": "[encoded data removed]",
      "text/plain": [
       "<PIL.Image.Image image mode=RGB size=201x32 at 0x7FA1518AE790>"
      ]
     },
     "execution_count": 248,
     "metadata": {},
     "output_type": "execute_result"
    }
   ],
   "source": [
    "img"
   ]
  }
 ],
 "metadata": {
  "interpreter": {
   "hash": "ddb6ac1274766aae8d48ea24c2a86f46ae3ad795c594d0c816246e36b08c5206"
  },
  "kernelspec": {
   "display_name": "Python 3.9.5 64-bit ('dl': conda)",
   "language": "python",
   "name": "python3"
  },
  "language_info": {
   "codemirror_mode": {
    "name": "ipython",
    "version": 3
   },
   "file_extension": ".py",
   "mimetype": "text/x-python",
   "name": "python",
   "nbconvert_exporter": "python",
   "pygments_lexer": "ipython3",
   "version": "3.9.5"
  },
  "orig_nbformat": 4
 },
 "nbformat": 4,
 "nbformat_minor": 2
}
