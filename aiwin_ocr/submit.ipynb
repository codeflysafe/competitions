{
 "cells": [
  {
   "cell_type": "code",
   "execution_count": 11,
   "metadata": {},
   "outputs": [],
   "source": [
    "import pandas as pd\n",
    "import json\n",
    "import os"
   ]
  },
  {
   "cell_type": "code",
   "execution_count": 12,
   "metadata": {},
   "outputs": [
    {
     "data": {
      "text/html": [
       "<div>\n",
       "<style scoped>\n",
       "    .dataframe tbody tr th:only-of-type {\n",
       "        vertical-align: middle;\n",
       "    }\n",
       "\n",
       "    .dataframe tbody tr th {\n",
       "        vertical-align: top;\n",
       "    }\n",
       "\n",
       "    .dataframe thead th {\n",
       "        text-align: right;\n",
       "    }\n",
       "</style>\n",
       "<table border=\"1\" class=\"dataframe\">\n",
       "  <thead>\n",
       "    <tr style=\"text-align: right;\">\n",
       "      <th></th>\n",
       "      <th>Image_path</th>\n",
       "      <th>Real</th>\n",
       "      <th>Pred</th>\n",
       "    </tr>\n",
       "  </thead>\n",
       "  <tbody>\n",
       "    <tr>\n",
       "      <th>0</th>\n",
       "      <td>/Users/sjhuang/Documents/docs/dataset/aiwin_da...</td>\n",
       "      <td>8bb3943b7657bc160176982a4c5b48c1.jpg</td>\n",
       "      <td>仟陆佰陆拾捌元整</td>\n",
       "    </tr>\n",
       "    <tr>\n",
       "      <th>1</th>\n",
       "      <td>/Users/sjhuang/Documents/docs/dataset/aiwin_da...</td>\n",
       "      <td>8bb39440774eb2130177717386aa3b00.jpg</td>\n",
       "      <td>伍仟叁佰叁拾叁元整</td>\n",
       "    </tr>\n",
       "    <tr>\n",
       "      <th>2</th>\n",
       "      <td>/Users/sjhuang/Documents/docs/dataset/aiwin_da...</td>\n",
       "      <td>8bb19420769a15bc0176b2f12dd40248.jpg</td>\n",
       "      <td>贰仟陆佰陆拾捌元整</td>\n",
       "    </tr>\n",
       "    <tr>\n",
       "      <th>3</th>\n",
       "      <td>/Users/sjhuang/Documents/docs/dataset/aiwin_da...</td>\n",
       "      <td>8bb1942e7657bb8301768283e31b5d71.jpg</td>\n",
       "      <td>壹仟贰佰贰拾元整</td>\n",
       "    </tr>\n",
       "    <tr>\n",
       "      <th>4</th>\n",
       "      <td>/Users/sjhuang/Documents/docs/dataset/aiwin_da...</td>\n",
       "      <td>8bb1941d770626e70177388d52d9465e.jpg</td>\n",
       "      <td>壹佰叁拾元整</td>\n",
       "    </tr>\n",
       "  </tbody>\n",
       "</table>\n",
       "</div>"
      ],
      "text/plain": [
       "                                          Image_path  \\\n",
       "0  /Users/sjhuang/Documents/docs/dataset/aiwin_da...   \n",
       "1  /Users/sjhuang/Documents/docs/dataset/aiwin_da...   \n",
       "2  /Users/sjhuang/Documents/docs/dataset/aiwin_da...   \n",
       "3  /Users/sjhuang/Documents/docs/dataset/aiwin_da...   \n",
       "4  /Users/sjhuang/Documents/docs/dataset/aiwin_da...   \n",
       "\n",
       "                                   Real       Pred  \n",
       "0  8bb3943b7657bc160176982a4c5b48c1.jpg   仟陆佰陆拾捌元整  \n",
       "1  8bb39440774eb2130177717386aa3b00.jpg  伍仟叁佰叁拾叁元整  \n",
       "2  8bb19420769a15bc0176b2f12dd40248.jpg  贰仟陆佰陆拾捌元整  \n",
       "3  8bb1942e7657bb8301768283e31b5d71.jpg   壹仟贰佰贰拾元整  \n",
       "4  8bb1941d770626e70177388d52d9465e.jpg     壹佰叁拾元整  "
      ]
     },
     "execution_count": 12,
     "metadata": {},
     "output_type": "execute_result"
    }
   ],
   "source": [
    "path = 'predicts/test_resnet_v2_rnn_ctc.csv'\n",
    "res = pd.read_csv(path, dtype=str)\n",
    "res.head()"
   ]
  },
  {
   "cell_type": "code",
   "execution_count": 13,
   "metadata": {},
   "outputs": [],
   "source": [
    "submit = {}\n",
    "\n",
    "image_paths = list(res['Image_path'].values)\n",
    "preds = list(res['Pred'].values)\n"
   ]
  },
  {
   "cell_type": "code",
   "execution_count": 14,
   "metadata": {},
   "outputs": [],
   "source": [
    "for image_path, pred in zip(image_paths, preds):\n",
    "    name = image_path.split('/')[-1]\n",
    "    submit[name] = {'result':pred, 'confidence':0.9}\n",
    "    "
   ]
  },
  {
   "cell_type": "code",
   "execution_count": 16,
   "metadata": {},
   "outputs": [],
   "source": [
    "with open('answer.json', 'w', encoding='utf-8') as up:\n",
    "    json.dump(submit, up, ensure_ascii=False, indent=4)\n"
   ]
  },
  {
   "cell_type": "code",
   "execution_count": 17,
   "metadata": {},
   "outputs": [
    {
     "name": "stdout",
     "output_type": "stream",
     "text": [
      "  adding: answer.json (deflated 87%)\n"
     ]
    }
   ],
   "source": [
    "!zip answer.json.zip answer.json"
   ]
  }
 ],
 "metadata": {
  "interpreter": {
   "hash": "ddb6ac1274766aae8d48ea24c2a86f46ae3ad795c594d0c816246e36b08c5206"
  },
  "kernelspec": {
   "display_name": "Python 3.9.5 64-bit ('dl': conda)",
   "language": "python",
   "name": "python3"
  },
  "language_info": {
   "codemirror_mode": {
    "name": "ipython",
    "version": 3
   },
   "file_extension": ".py",
   "mimetype": "text/x-python",
   "name": "python",
   "nbconvert_exporter": "python",
   "pygments_lexer": "ipython3",
   "version": "3.9.5"
  },
  "orig_nbformat": 4
 },
 "nbformat": 4,
 "nbformat_minor": 2
}
